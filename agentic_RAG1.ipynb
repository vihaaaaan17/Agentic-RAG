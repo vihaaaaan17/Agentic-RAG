{
  "cells": [
    {
      "cell_type": "code",
      "execution_count": 3,
      "metadata": {
        "colab": {
          "base_uri": "https://localhost:8080/"
        },
        "id": "M4Vj4E43_3CQ",
        "outputId": "630ba6ce-f2b3-4499-ec8a-58631af45697"
      },
      "outputs": [
        {
          "name": "stdout",
          "output_type": "stream",
          "text": [
            "Requirement already satisfied: cohere in c:\\users\\agrvi\\appdata\\local\\programs\\python\\python311\\lib\\site-packages (5.11.1)\n",
            "Requirement already satisfied: fastavro<2.0.0,>=1.9.4 in c:\\users\\agrvi\\appdata\\local\\programs\\python\\python311\\lib\\site-packages (from cohere) (1.9.7)\n",
            "Requirement already satisfied: httpx>=0.21.2 in c:\\users\\agrvi\\appdata\\local\\programs\\python\\python311\\lib\\site-packages (from cohere) (0.25.0)\n",
            "Requirement already satisfied: httpx-sse==0.4.0 in c:\\users\\agrvi\\appdata\\local\\programs\\python\\python311\\lib\\site-packages (from cohere) (0.4.0)\n",
            "Requirement already satisfied: parameterized<0.10.0,>=0.9.0 in c:\\users\\agrvi\\appdata\\local\\programs\\python\\python311\\lib\\site-packages (from cohere) (0.9.0)\n",
            "Requirement already satisfied: pydantic>=1.9.2 in c:\\users\\agrvi\\appdata\\local\\programs\\python\\python311\\lib\\site-packages (from cohere) (2.9.2)\n",
            "Requirement already satisfied: pydantic-core<3.0.0,>=2.18.2 in c:\\users\\agrvi\\appdata\\local\\programs\\python\\python311\\lib\\site-packages (from cohere) (2.23.4)\n",
            "Requirement already satisfied: requests<3.0.0,>=2.0.0 in c:\\users\\agrvi\\appdata\\local\\programs\\python\\python311\\lib\\site-packages (from cohere) (2.32.3)\n",
            "Requirement already satisfied: tokenizers<1,>=0.15 in c:\\users\\agrvi\\appdata\\local\\programs\\python\\python311\\lib\\site-packages (from cohere) (0.20.0)\n",
            "Requirement already satisfied: types-requests<3.0.0,>=2.0.0 in c:\\users\\agrvi\\appdata\\local\\programs\\python\\python311\\lib\\site-packages (from cohere) (2.32.0.20241016)\n",
            "Requirement already satisfied: typing_extensions>=4.0.0 in c:\\users\\agrvi\\appdata\\local\\programs\\python\\python311\\lib\\site-packages (from cohere) (4.12.2)\n",
            "Requirement already satisfied: certifi in c:\\users\\agrvi\\appdata\\local\\programs\\python\\python311\\lib\\site-packages (from httpx>=0.21.2->cohere) (2023.7.22)\n",
            "Requirement already satisfied: httpcore<0.19.0,>=0.18.0 in c:\\users\\agrvi\\appdata\\local\\programs\\python\\python311\\lib\\site-packages (from httpx>=0.21.2->cohere) (0.18.0)\n",
            "Requirement already satisfied: idna in c:\\users\\agrvi\\appdata\\local\\programs\\python\\python311\\lib\\site-packages (from httpx>=0.21.2->cohere) (3.4)\n",
            "Requirement already satisfied: sniffio in c:\\users\\agrvi\\appdata\\local\\programs\\python\\python311\\lib\\site-packages (from httpx>=0.21.2->cohere) (1.3.0)\n",
            "Requirement already satisfied: annotated-types>=0.6.0 in c:\\users\\agrvi\\appdata\\local\\programs\\python\\python311\\lib\\site-packages (from pydantic>=1.9.2->cohere) (0.6.0)\n",
            "Requirement already satisfied: charset-normalizer<4,>=2 in c:\\users\\agrvi\\appdata\\local\\programs\\python\\python311\\lib\\site-packages (from requests<3.0.0,>=2.0.0->cohere) (3.2.0)\n",
            "Requirement already satisfied: urllib3<3,>=1.21.1 in c:\\users\\agrvi\\appdata\\local\\programs\\python\\python311\\lib\\site-packages (from requests<3.0.0,>=2.0.0->cohere) (2.2.3)\n",
            "Requirement already satisfied: huggingface-hub<1.0,>=0.16.4 in c:\\users\\agrvi\\appdata\\local\\programs\\python\\python311\\lib\\site-packages (from tokenizers<1,>=0.15->cohere) (0.25.2)\n",
            "Requirement already satisfied: anyio<5.0,>=3.0 in c:\\users\\agrvi\\appdata\\local\\programs\\python\\python311\\lib\\site-packages (from httpcore<0.19.0,>=0.18.0->httpx>=0.21.2->cohere) (3.7.1)\n",
            "Requirement already satisfied: h11<0.15,>=0.13 in c:\\users\\agrvi\\appdata\\local\\programs\\python\\python311\\lib\\site-packages (from httpcore<0.19.0,>=0.18.0->httpx>=0.21.2->cohere) (0.14.0)\n",
            "Requirement already satisfied: filelock in c:\\users\\agrvi\\appdata\\local\\programs\\python\\python311\\lib\\site-packages (from huggingface-hub<1.0,>=0.16.4->tokenizers<1,>=0.15->cohere) (3.12.4)\n",
            "Requirement already satisfied: fsspec>=2023.5.0 in c:\\users\\agrvi\\appdata\\local\\programs\\python\\python311\\lib\\site-packages (from huggingface-hub<1.0,>=0.16.4->tokenizers<1,>=0.15->cohere) (2023.9.2)\n",
            "Requirement already satisfied: packaging>=20.9 in c:\\users\\agrvi\\appdata\\local\\programs\\python\\python311\\lib\\site-packages (from huggingface-hub<1.0,>=0.16.4->tokenizers<1,>=0.15->cohere) (23.2)\n",
            "Requirement already satisfied: pyyaml>=5.1 in c:\\users\\agrvi\\appdata\\local\\programs\\python\\python311\\lib\\site-packages (from huggingface-hub<1.0,>=0.16.4->tokenizers<1,>=0.15->cohere) (6.0.1)\n",
            "Requirement already satisfied: tqdm>=4.42.1 in c:\\users\\agrvi\\appdata\\local\\programs\\python\\python311\\lib\\site-packages (from huggingface-hub<1.0,>=0.16.4->tokenizers<1,>=0.15->cohere) (4.66.5)\n",
            "Requirement already satisfied: colorama in c:\\users\\agrvi\\appdata\\local\\programs\\python\\python311\\lib\\site-packages (from tqdm>=4.42.1->huggingface-hub<1.0,>=0.16.4->tokenizers<1,>=0.15->cohere) (0.4.6)\n"
          ]
        },
        {
          "name": "stderr",
          "output_type": "stream",
          "text": [
            "\n",
            "[notice] A new release of pip is available: 24.1.1 -> 24.2\n",
            "[notice] To update, run: python.exe -m pip install --upgrade pip\n"
          ]
        }
      ],
      "source": [
        "!pip install cohere"
      ]
    },
    {
      "cell_type": "code",
      "execution_count": 4,
      "metadata": {
        "id": "5e3tFxl2_1gP"
      },
      "outputs": [],
      "source": [
        "import os\n",
        "from pprint import pprint\n",
        "import cohere\n",
        "import pandas as pd"
      ]
    },
    {
      "cell_type": "code",
      "execution_count": 5,
      "metadata": {
        "id": "nUmx7brlBy12"
      },
      "outputs": [],
      "source": [
        "COHERE_MODEL = 'command-r-plus' \n",
        "co = cohere.Client('vQPugCWtSolhoXDEUiXrqQEP9ocJr1B1WT1t3rls')"
      ]
    },
    {
      "cell_type": "code",
      "execution_count": 6,
      "metadata": {
        "colab": {
          "base_uri": "https://localhost:8080/"
        },
        "id": "rXFimJZuCA0C",
        "outputId": "067e4e61-7443-424e-ce9b-e55cc075be82"
      },
      "outputs": [
        {
          "name": "stdout",
          "output_type": "stream",
          "text": [
            "('Yo Yo Honey Singh is a Indian rapper, singer, songwriter and music producer '\n",
            " 'who gained popularity in Indian pop music and Bollywood playback singing. He '\n",
            " 'began his career in 2003 and has since then released several successful '\n",
            " 'songs that have topped the charts. His songs are usually a mix of Hindi and '\n",
            " 'English words, and his beats are usually upbeat and high-tempo, comprising '\n",
            " 'electro hop and dance music.')\n"
          ]
        }
      ],
      "source": [
        "message = \"who is yoyo honey singh?\"\n",
        "response = co.chat(\n",
        "  message=message,\n",
        "  model=\"command\",\n",
        "  temperature=0.3\n",
        ")\n",
        "answer = response.text\n",
        "pprint(answer)"
      ]
    },
    {
      "cell_type": "code",
      "execution_count": 7,
      "metadata": {
        "id": "xQm008TxBIYN"
      },
      "outputs": [],
      "source": [
        "documents = [\n",
        "    {\n",
        "        \"title\": \"Supply Chain Regulations\",\n",
        "        \"body\": \"\"\"\n",
        "        Supplier Compliance - All suppliers must adhere to local, state, and federal laws governing supply chain practices, including product safety, labor laws, and environmental regulations. For specific guidelines, refer to Section 5b for more details.\n",
        "        Supplier Responsibility - Suppliers are responsible for ensuring that all goods and materials comply with applicable laws and meet the quality standards set by the purchasing company (SCC 12.34.567). Non-compliance may result in penalties, including fines and contract termination.\n",
        "        Restricted Goods - Some goods, particularly hazardous materials, may be subject to import/export restrictions. See the restricted goods guidelines in Section 7c for a list of these items.\n",
        "        Child Labor - It is illegal for any supplier to employ workers under the age of 14. For detailed child labor regulations and penalties, see Section 4a (SCC 12.34.578).\n",
        "        Transport and Delivery - All suppliers must ensure that goods are transported according to the safety regulations outlined in SCC 12.34.890. Delivery schedules must also comply with these regulations, and suppliers may be fined for any safety violations.\n",
        "        Traceability - Suppliers must maintain records of product origin and material sourcing. In the event of a product recall, these records will be used to trace the defective goods to their source (SCC 12.34.999).\n",
        "        Environmental Standards - Suppliers must follow all relevant environmental standards. Failure to comply with these standards could result in penalties under Section 9b. For more information, refer to the Environmental Protection Agency's guidelines.\n",
        "        Supplier Contracts - All contracts with suppliers must include clauses related to compliance with labor, safety, and environmental laws. For a full list of required contract clauses, refer to Section 6b.\n",
        "        \"\"\"\n",
        "    },\n",
        "    {\n",
        "        \"title\": \"Child Labor Laws\",\n",
        "        \"body\": \"Suppliers are prohibited from employing workers under the age of 14 in any part of the supply chain. Violations of this law may result in severe penalties. Refer to Section 4a for specific penalties and guidelines on child labor restrictions.\",\n",
        "    },\n",
        "    {\n",
        "        \"title\": \"Section 4a\",\n",
        "        \"body\": \"\"\"Child Labor Restrictions: All suppliers must comply with child labor laws that prohibit the employment of minors under the age of 14.\n",
        "        Violations will incur the following penalties:\n",
        "        1. First offense: $5,000 fine and immediate suspension of contract.\n",
        "        2. Second offense: $10,000 fine and permanent ban from future contracts.\n",
        "        3. Suppliers found to be engaging in child labor practices in foreign countries will be subject to penalties under the international labor laws section (IL 12.34.678).\n",
        "\n",
        "        For more information on child labor laws, please visit Section 9b of the International Labor Code.\n",
        "        \"\"\"\n",
        "    },\n",
        "    {\n",
        "        \"title\": \"Section 5b\",\n",
        "        \"body\": \"\"\"Supplier Compliance: Suppliers must follow all local, state, and federal regulations governing supply chain practices, including the following:\n",
        "        1. Product Safety: Suppliers must ensure that all products meet safety standards outlined in SCC 12.34.789.\n",
        "        2. Labor Laws: Suppliers must adhere to local labor laws regarding wages, working hours, and working conditions (SCC 12.34.567).\n",
        "        3. Environmental Compliance: Suppliers are required to comply with environmental protection regulations, including waste disposal and resource usage limits.\n",
        "\n",
        "        Penalties for non-compliance:\n",
        "        - First violation: $2,500 fine and warning.\n",
        "        - Second violation: $5,000 fine and review of contract status.\n",
        "        - Third violation: Termination of contract and legal action.\n",
        "        \"\"\"\n",
        "    },\n",
        "    {\n",
        "        \"title\": \"Section 7c\",\n",
        "        \"body\": \"\"\"Restricted Goods: Certain products and materials may not be imported or exported without special permits, including:\n",
        "        1. Hazardous chemicals.\n",
        "        2. Goods subject to trade embargoes.\n",
        "        3. Wildlife products subject to conservation laws.\n",
        "\n",
        "        For a complete list of restricted goods, refer to the International Trade Regulations (ITR 12.34.567).\n",
        "        \"\"\"\n",
        "    }\n",
        "]\n",
        "\n",
        "db = pd.DataFrame(documents)\n",
        "db[\"combined\"] = \"Title: \" + db[\"title\"] + \"\\n\" + \"Body: \" + db[\"body\"]\n",
        "\n",
        "embeddings = co.embed(\n",
        "    texts=db.combined.tolist(), model=\"embed-english-v3.0\", input_type=\"search_document\"\n",
        ")\n",
        "db[\"embeddings\"] = embeddings.embeddings\n"
      ]
    },
    {
      "cell_type": "code",
      "execution_count": 8,
      "metadata": {
        "colab": {
          "base_uri": "https://localhost:8080/",
          "height": 206
        },
        "id": "sM91qzb0BOKl",
        "outputId": "3ea35a1a-92fe-46f9-955c-023a90c81a47"
      },
      "outputs": [
        {
          "data": {
            "text/html": [
              "<div>\n",
              "<style scoped>\n",
              "    .dataframe tbody tr th:only-of-type {\n",
              "        vertical-align: middle;\n",
              "    }\n",
              "\n",
              "    .dataframe tbody tr th {\n",
              "        vertical-align: top;\n",
              "    }\n",
              "\n",
              "    .dataframe thead th {\n",
              "        text-align: right;\n",
              "    }\n",
              "</style>\n",
              "<table border=\"1\" class=\"dataframe\">\n",
              "  <thead>\n",
              "    <tr style=\"text-align: right;\">\n",
              "      <th></th>\n",
              "      <th>title</th>\n",
              "      <th>body</th>\n",
              "      <th>combined</th>\n",
              "      <th>embeddings</th>\n",
              "    </tr>\n",
              "  </thead>\n",
              "  <tbody>\n",
              "    <tr>\n",
              "      <th>0</th>\n",
              "      <td>Supply Chain Regulations</td>\n",
              "      <td>\\n        Supplier Compliance - All suppliers ...</td>\n",
              "      <td>Title: Supply Chain Regulations\\nBody: \\n     ...</td>\n",
              "      <td>[-0.0039405823, -0.013084412, -0.01940918, -0....</td>\n",
              "    </tr>\n",
              "    <tr>\n",
              "      <th>1</th>\n",
              "      <td>Child Labor Laws</td>\n",
              "      <td>Suppliers are prohibited from employing worker...</td>\n",
              "      <td>Title: Child Labor Laws\\nBody: Suppliers are p...</td>\n",
              "      <td>[-0.003332138, 0.010688782, -0.0009689331, -0....</td>\n",
              "    </tr>\n",
              "    <tr>\n",
              "      <th>2</th>\n",
              "      <td>Section 4a</td>\n",
              "      <td>Child Labor Restrictions: All suppliers must c...</td>\n",
              "      <td>Title: Section 4a\\nBody: Child Labor Restricti...</td>\n",
              "      <td>[0.016113281, 0.0026474, 0.001496315, -0.05053...</td>\n",
              "    </tr>\n",
              "    <tr>\n",
              "      <th>3</th>\n",
              "      <td>Section 5b</td>\n",
              "      <td>Supplier Compliance: Suppliers must follow all...</td>\n",
              "      <td>Title: Section 5b\\nBody: Supplier Compliance: ...</td>\n",
              "      <td>[0.017349243, 0.00869751, -0.020874023, -0.080...</td>\n",
              "    </tr>\n",
              "    <tr>\n",
              "      <th>4</th>\n",
              "      <td>Section 7c</td>\n",
              "      <td>Restricted Goods: Certain products and materia...</td>\n",
              "      <td>Title: Section 7c\\nBody: Restricted Goods: Cer...</td>\n",
              "      <td>[-0.034698486, 0.011146545, -0.026260376, -0.0...</td>\n",
              "    </tr>\n",
              "  </tbody>\n",
              "</table>\n",
              "</div>"
            ],
            "text/plain": [
              "                      title  \\\n",
              "0  Supply Chain Regulations   \n",
              "1          Child Labor Laws   \n",
              "2                Section 4a   \n",
              "3                Section 5b   \n",
              "4                Section 7c   \n",
              "\n",
              "                                                body  \\\n",
              "0  \\n        Supplier Compliance - All suppliers ...   \n",
              "1  Suppliers are prohibited from employing worker...   \n",
              "2  Child Labor Restrictions: All suppliers must c...   \n",
              "3  Supplier Compliance: Suppliers must follow all...   \n",
              "4  Restricted Goods: Certain products and materia...   \n",
              "\n",
              "                                            combined  \\\n",
              "0  Title: Supply Chain Regulations\\nBody: \\n     ...   \n",
              "1  Title: Child Labor Laws\\nBody: Suppliers are p...   \n",
              "2  Title: Section 4a\\nBody: Child Labor Restricti...   \n",
              "3  Title: Section 5b\\nBody: Supplier Compliance: ...   \n",
              "4  Title: Section 7c\\nBody: Restricted Goods: Cer...   \n",
              "\n",
              "                                          embeddings  \n",
              "0  [-0.0039405823, -0.013084412, -0.01940918, -0....  \n",
              "1  [-0.003332138, 0.010688782, -0.0009689331, -0....  \n",
              "2  [0.016113281, 0.0026474, 0.001496315, -0.05053...  \n",
              "3  [0.017349243, 0.00869751, -0.020874023, -0.080...  \n",
              "4  [-0.034698486, 0.011146545, -0.026260376, -0.0...  "
            ]
          },
          "execution_count": 8,
          "metadata": {},
          "output_type": "execute_result"
        }
      ],
      "source": [
        "db.head()"
      ]
    },
    {
      "cell_type": "code",
      "execution_count": 9,
      "metadata": {
        "colab": {
          "base_uri": "https://localhost:8080/"
        },
        "id": "JPWR65RnBQSS",
        "outputId": "3034c85f-0d59-4968-c1b8-de55a96e73b7"
      },
      "outputs": [
        {
          "name": "stderr",
          "output_type": "stream",
          "text": [
            "c:\\Users\\agrvi\\AppData\\Local\\Programs\\Python\\Python311\\Lib\\site-packages\\torch\\_utils.py:831: UserWarning: TypedStorage is deprecated. It will be removed in the future and UntypedStorage will be the only storage class. This should only matter to you if you are using storages directly.  To access UntypedStorage directly, use tensor.untyped_storage() instead of tensor.storage()\n",
            "  return self.fget.__get__(instance, owner)()\n",
            "Some weights of the model checkpoint at facebook/dpr-question_encoder-single-nq-base were not used when initializing DPRQuestionEncoder: ['question_encoder.bert_model.pooler.dense.bias', 'question_encoder.bert_model.pooler.dense.weight']\n",
            "- This IS expected if you are initializing DPRQuestionEncoder from the checkpoint of a model trained on another task or with another architecture (e.g. initializing a BertForSequenceClassification model from a BertForPreTraining model).\n",
            "- This IS NOT expected if you are initializing DPRQuestionEncoder from the checkpoint of a model that you expect to be exactly identical (initializing a BertForSequenceClassification model from a BertForSequenceClassification model).\n",
            "Some weights of the model checkpoint at facebook/dpr-ctx_encoder-single-nq-base were not used when initializing DPRContextEncoder: ['ctx_encoder.bert_model.pooler.dense.bias', 'ctx_encoder.bert_model.pooler.dense.weight']\n",
            "- This IS expected if you are initializing DPRContextEncoder from the checkpoint of a model trained on another task or with another architecture (e.g. initializing a BertForSequenceClassification model from a BertForPreTraining model).\n",
            "- This IS NOT expected if you are initializing DPRContextEncoder from the checkpoint of a model that you expect to be exactly identical (initializing a BertForSequenceClassification model from a BertForSequenceClassification model).\n",
            "The tokenizer class you load from this checkpoint is not the same type as the class this function is called from. It may result in unexpected tokenization. \n",
            "The tokenizer class you load from this checkpoint is 'DPRQuestionEncoderTokenizer'. \n",
            "The class this function is called from is 'DPRContextEncoderTokenizer'.\n"
          ]
        }
      ],
      "source": [
        "from transformers import DPRQuestionEncoder, DPRContextEncoder, DPRQuestionEncoderTokenizer, DPRContextEncoderTokenizer\n",
        "import torch\n",
        "\n",
        "question_encoder = DPRQuestionEncoder.from_pretrained('facebook/dpr-question_encoder-single-nq-base')\n",
        "context_encoder = DPRContextEncoder.from_pretrained('facebook/dpr-ctx_encoder-single-nq-base')\n",
        "question_tokenizer = DPRQuestionEncoderTokenizer.from_pretrained('facebook/dpr-question_encoder-single-nq-base')\n",
        "context_tokenizer = DPRContextEncoderTokenizer.from_pretrained('facebook/dpr-ctx_encoder-single-nq-base')\n",
        "\n",
        "def retrieve_documents(query: str, n=1) -> dict:\n",
        "    query_emb = question_encoder(**question_tokenizer(query, return_tensors=\"pt\")).pooler_output\n",
        "    doc_embeddings = context_encoder(**context_tokenizer(db['combined'].tolist(), return_tensors=\"pt\", padding=True, truncation=True)).pooler_output\n",
        "    similarity_scores = torch.matmul(query_emb, doc_embeddings.T).squeeze(0).cpu().detach().numpy()\n",
        "    top_indices = similarity_scores.argsort()[::-1][:n]\n",
        "    top_matches = db.iloc[top_indices]\n",
        "    return {\"top_matched_document\": top_matches.combined}\n",
        "\n",
        "\n",
        "\n",
        "functions_map = {\n",
        "    \"retrieve_documents\": retrieve_documents,\n",
        "}\n",
        "\n",
        "tools = [\n",
        "    {\n",
        "        \"name\": \"retrieve_documents\",\n",
        "        \"description\": \"given a query, retrieve documents from a database to answer user's question\",\n",
        "        \"parameter_definitions\": {\n",
        "            \"query\": {\"description\": \"query\", \"type\": \"str\", \"required\": True}\n",
        "        },\n",
        "    }\n",
        "]"
      ]
    },
    {
      "cell_type": "code",
      "execution_count": 10,
      "metadata": {
        "id": "ZKuivlF9BaO0"
      },
      "outputs": [],
      "source": [
        "def simple_rag(query, db):\n",
        "    \"\"\"\n",
        "    Given user's query, retrieve top documents and generate response using documents parameter.\n",
        "    \"\"\"\n",
        "    top_matched_document = retrieve_documents(query)[\"top_matched_document\"]\n",
        "    print(\"top_matched_document\", top_matched_document)\n",
        "    output = co.chat(\n",
        "        message=query, model=COHERE_MODEL, documents=[top_matched_document]\n",
        "    )\n",
        "    return output.text"
      ]
    },
    {
      "cell_type": "code",
      "execution_count": 11,
      "metadata": {
        "id": "91i44jnEBhAG"
      },
      "outputs": [],
      "source": [
        "def cohere_agent(\n",
        "    message: str,\n",
        "    preamble: str,\n",
        "    tools: list[dict],\n",
        "    force_single_step=False,\n",
        "    verbose: bool = False,\n",
        "    temperature: float = 0.3,) -> str:\n",
        "\n",
        "    \"\"\"\n",
        "    Function to handle multi-step tool use api.\n",
        "\n",
        "    Args:\n",
        "        message (str): The message to send to the Cohere AI model.\n",
        "        preamble (str): The preamble or context for the conversation.\n",
        "        tools (list of dict): List of tools to use in the conversation.\n",
        "        verbose (bool, optional): Whether to print verbose output. Defaults to False.\n",
        "\n",
        "    Returns:\n",
        "        str: The final response from the call.\n",
        "    \"\"\"\n",
        "\n",
        "    counter = 1\n",
        "    response = co.chat(\n",
        "        model=COHERE_MODEL,\n",
        "        message=message,\n",
        "        preamble=preamble,\n",
        "        tools=tools,\n",
        "        force_single_step=force_single_step,\n",
        "        temperature=temperature,\n",
        "    )\n",
        "\n",
        "    if verbose:\n",
        "        print(f\"\\nrunning 0th step.\")\n",
        "        print(response.text)\n",
        "\n",
        "    while response.tool_calls:\n",
        "        tool_results = []\n",
        "\n",
        "        if verbose:\n",
        "            print(f\"\\nrunning {counter}th step.\")\n",
        "\n",
        "        for tool_call in response.tool_calls:\n",
        "            output = functions_map[tool_call.name](**tool_call.parameters)\n",
        "            outputs = [output]\n",
        "            tool_results.append({\"call\": tool_call, \"outputs\": outputs})\n",
        "\n",
        "            if verbose:\n",
        "                print(\n",
        "                    f\"= running tool {tool_call.name}, with parameters: \\n{tool_call.parameters}\"\n",
        "                )\n",
        "                print(f\"== tool results:\")\n",
        "                pprint(output)\n",
        "\n",
        "        response = co.chat(\n",
        "            model=COHERE_MODEL,\n",
        "            message=\"\",\n",
        "            chat_history=response.chat_history,\n",
        "            preamble=preamble,\n",
        "            tools=tools,\n",
        "            force_single_step=force_single_step,\n",
        "            tool_results=tool_results,\n",
        "            temperature=temperature,\n",
        "        )\n",
        "\n",
        "        if verbose:\n",
        "            print(response.text)\n",
        "            counter += 1\n",
        "\n",
        "    return response.text\n",
        "\n"
      ]
    },
    {
      "cell_type": "code",
      "execution_count": 12,
      "metadata": {
        "id": "GvegW0jPCKia"
      },
      "outputs": [],
      "source": [
        "question1 = \"Is there a law preventing suppliers from using child labor?\""
      ]
    },
    {
      "cell_type": "code",
      "execution_count": 13,
      "metadata": {
        "colab": {
          "base_uri": "https://localhost:8080/"
        },
        "id": "G-09SHNHCRHI",
        "outputId": "a70808ad-2b30-425c-a2fd-ceeda6a065b9"
      },
      "outputs": [
        {
          "name": "stderr",
          "output_type": "stream",
          "text": [
            "Asking to truncate to max_length but no maximum length is provided and the model has no predefined maximum length. Default to no truncation.\n"
          ]
        },
        {
          "name": "stdout",
          "output_type": "stream",
          "text": [
            "top_matched_document 1    Title: Child Labor Laws\\nBody: Suppliers are p...\n",
            "Name: combined, dtype: object\n",
            "Yes, there is a law that prohibits suppliers from employing workers under the age of 14 in any part of the supply chain. Violations may result in severe penalties.\n"
          ]
        }
      ],
      "source": [
        "output = simple_rag(question1, db)\n",
        "print(output)"
      ]
    },
    {
      "cell_type": "code",
      "execution_count": 14,
      "metadata": {
        "colab": {
          "base_uri": "https://localhost:8080/"
        },
        "id": "5WOL0cnkCR0o",
        "outputId": "96676ee8-51bf-4b87-889a-6e130f95ed39"
      },
      "outputs": [
        {
          "name": "stdout",
          "output_type": "stream",
          "text": [
            "\n",
            "running 0th step.\n",
            "I will search the database for 'child labour' to see if there is a law preventing suppliers from using child labour.\n",
            "\n",
            "running 1th step.\n",
            "= running tool retrieve_documents, with parameters: \n",
            "{'query': 'child labour'}\n",
            "== tool results:\n",
            "{'top_matched_document': 1    Title: Child Labor Laws\\nBody: Suppliers are p...\n",
            "Name: combined, dtype: object}\n",
            "Yes, there is a law preventing suppliers from using child labour. Suppliers are prohibited from employing workers under the age of 14 in any part of the supply chain. Violations of this law may result in severe penalties.\n",
            "('Yes, there is a law preventing suppliers from using child labour. Suppliers '\n",
            " 'are prohibited from employing workers under the age of 14 in any part of the '\n",
            " 'supply chain. Violations of this law may result in severe penalties.')\n"
          ]
        }
      ],
      "source": [
        "preamble = \"\"\"\n",
        "You are an expert assistant that helps users answers question about legal documents and policies.\n",
        "Use the provided documents to answer questions about an employee's specific situation.\n",
        "\"\"\"\n",
        "\n",
        "output = cohere_agent(question1, preamble, tools, verbose=True)\n",
        "pprint(output)"
      ]
    },
    {
      "cell_type": "code",
      "execution_count": 15,
      "metadata": {
        "id": "I3jsBZN_ChFS"
      },
      "outputs": [],
      "source": [
        "question2 = \"\"\"I operate a supply chain business in DuPont, and I’m sourcing materials from multiple international locations.\n",
        "              Do I need to comply with both local and international labor and environmental laws,\n",
        "              and what are the penalties if a supplier in a foreign country is found violating child labor laws?\n",
        "              \"\"\""
      ]
    },
    {
      "cell_type": "code",
      "execution_count": 16,
      "metadata": {
        "colab": {
          "base_uri": "https://localhost:8080/"
        },
        "id": "L58DH975Co7J",
        "outputId": "cb0a0ad0-970b-4560-fa60-cd1326c9b5dc"
      },
      "outputs": [
        {
          "name": "stdout",
          "output_type": "stream",
          "text": [
            "top_matched_document 1    Title: Child Labor Laws\\nBody: Suppliers are p...\n",
            "Name: combined, dtype: object\n",
            "('Suppliers are prohibited from employing workers under the age of 14 in any '\n",
            " 'part of the supply chain. Violations of this law may result in severe '\n",
            " 'penalties. Unfortunately, that is all the information I have on the topic.')\n"
          ]
        }
      ],
      "source": [
        "output = simple_rag(question2, db)\n",
        "pprint(output)"
      ]
    },
    {
      "cell_type": "code",
      "execution_count": 17,
      "metadata": {
        "colab": {
          "base_uri": "https://localhost:8080/"
        },
        "id": "eRFzgOzECrIo",
        "outputId": "7484bd25-3768-4705-a8e7-b2fea89ce8c7"
      },
      "outputs": [
        {
          "name": "stdout",
          "output_type": "stream",
          "text": [
            "\n",
            "running 0th step.\n",
            "I will search for 'comply with local and international laws' and 'penalties for child labour' to answer the user's question.\n",
            "\n",
            "running 1th step.\n",
            "= running tool retrieve_documents, with parameters: \n",
            "{'query': 'comply with local and international laws'}\n",
            "== tool results:\n",
            "{'top_matched_document': 3    Title: Section 5b\\nBody: Supplier Compliance: ...\n",
            "Name: combined, dtype: object}\n",
            "= running tool retrieve_documents, with parameters: \n",
            "{'query': 'penalties for child labour'}\n",
            "== tool results:\n",
            "{'top_matched_document': 1    Title: Child Labor Laws\\nBody: Suppliers are p...\n",
            "Name: combined, dtype: object}\n",
            "Suppliers must follow all local, state, and federal regulations governing supply chain practices. This includes labour laws and environmental compliance. \n",
            "\n",
            "If a supplier is found to be violating child labour laws, this may result in severe penalties. The specific penalties are outlined in Section 4a.\n"
          ]
        }
      ],
      "source": [
        "preamble = \"\"\"\n",
        "You are an expert assistant that helps users answers question about legal documents and policies.\n",
        "Use the provided documents to answer questions about an employee's specific situation.\n",
        "\"\"\"\n",
        "output = cohere_agent(question2, preamble, tools, verbose=True)"
      ]
    },
    {
      "cell_type": "code",
      "execution_count": 18,
      "metadata": {
        "id": "al_oFFGtCui0"
      },
      "outputs": [],
      "source": [
        "def reference_extractor(query: str, documents: list[str]) -> str:\n",
        "    \"\"\"\n",
        "    Given a query and document, find references to other documents.\n",
        "    \"\"\"\n",
        "    prompt = f\"\"\"\n",
        "    # instruction\n",
        "    Does the reference document mention any other documents? If so, list them.\n",
        "    If not, return empty string.\n",
        "\n",
        "    # user query\n",
        "    {query}\n",
        "\n",
        "    # retrieved documents\n",
        "    {documents}\n",
        "    \"\"\"\n",
        "    return co.chat(message=prompt, model=COHERE_MODEL, preamble=None).text\n",
        "\n",
        "\n",
        "def retrieve_documents(query: str, n=1) -> dict:\n",
        "    \"\"\"\n",
        "    Function to retrieve the most relevant documents for a given query.\n",
        "    It also returns other references mentioned in the top-matched documents.\n",
        "    \"\"\"\n",
        "    query_input = question_tokenizer(query, return_tensors=\"pt\")\n",
        "    query_emb = question_encoder(**query_input).pooler_output\n",
        "\n",
        "    doc_texts = db['combined'].tolist()\n",
        "    doc_inputs = context_tokenizer(doc_texts, return_tensors=\"pt\", padding=True, truncation=True)\n",
        "    doc_embeddings = context_encoder(**doc_inputs).pooler_output\n",
        "\n",
        "    similarity_scores = torch.matmul(query_emb, doc_embeddings.T).squeeze(0).cpu().detach().numpy()\n",
        "\n",
        "    top_indices = similarity_scores.argsort()[::-1][:n]\n",
        "    top_matches = db.iloc[top_indices]\n",
        "\n",
        "    # Extract references from the top-matched documents\n",
        "    other_references = reference_extractor(query, top_matches.combined.tolist())\n",
        "\n",
        "    return {\n",
        "        \"top_matched_document\": top_matches.combined,\n",
        "        \"other_references_to_query\": other_references,\n",
        "    }\n",
        "\n",
        "\n",
        "\n",
        "functions_map = {\n",
        "    \"retrieve_documents\": retrieve_documents,\n",
        "}\n",
        "\n",
        "tools = [\n",
        "    {\n",
        "        \"name\": \"retrieve_documents\",\n",
        "        \"description\": \"given a query, retrieve documents from a database to answer user's question. It also finds references to other documents that should be leveraged to retrieve more documents\",\n",
        "        \"parameter_definitions\": {\n",
        "            \"query\": {\n",
        "                \"description\": \"user's question or question or name of other document sections or references.\",\n",
        "                \"type\": \"str\",\n",
        "                \"required\": True,\n",
        "            }\n",
        "        },\n",
        "    }\n",
        "]"
      ]
    },
    {
      "cell_type": "code",
      "execution_count": 21,
      "metadata": {
        "colab": {
          "base_uri": "https://localhost:8080/"
        },
        "id": "cvGWl-7tPaJk",
        "outputId": "a2232fab-45d1-45ba-9734-b06bbe60f612"
      },
      "outputs": [
        {
          "name": "stdout",
          "output_type": "stream",
          "text": [
            "\n",
            "running 0th step.\n",
            "I will search for 'international labour and environmental laws' and 'child labour law penalties' to answer the user's query.\n",
            "\n",
            "running 1th step.\n",
            "= running tool retrieve_documents, with parameters: \n",
            "{'query': 'international labour and environmental laws'}\n",
            "== tool results:\n",
            "{'other_references_to_query': 'International Trade Regulations (ITR 12.34.567)',\n",
            " 'top_matched_document': 4    Title: Section 7c\\nBody: Restricted Goods: Cer...\n",
            "Name: combined, dtype: object}\n",
            "= running tool retrieve_documents, with parameters: \n",
            "{'query': 'child labour law penalties'}\n",
            "== tool results:\n",
            "{'other_references_to_query': 'Section 4a',\n",
            " 'top_matched_document': 1    Title: Child Labor Laws\\nBody: Suppliers are p...\n",
            "Name: combined, dtype: object}\n",
            "I have found that suppliers are prohibited from employing workers under the age of 14 in any part of the supply chain. Violations of this law may result in severe penalties. I will now search for the specific penalties in Section 4a.\n",
            "\n",
            "running 2th step.\n",
            "= running tool retrieve_documents, with parameters: \n",
            "{'query': 'Section 4a'}\n",
            "== tool results:\n",
            "{'other_references_to_query': '- Section 9b of the International Labor Code',\n",
            " 'top_matched_document': 2    Title: Section 4a\\nBody: Child Labor Restricti...\n",
            "Name: combined, dtype: object}\n",
            "Yes, you need to comply with both local and international labour and environmental laws. If a supplier in a foreign country is found violating child labour laws, the penalties are as follows:\n",
            "1. First offence: $5,000 fine and immediate suspension of contract.\n",
            "2. Second offence: $10,000 fine and permanent ban from future contracts.\n",
            "3. Suppliers found to be engaging in child labour practices in foreign countries will be subject to penalties under the international labour laws section (IL 12.34.678).\n"
          ]
        }
      ],
      "source": [
        "preamble2 = \"\"\"# Instruction\n",
        "You are an expert assistant that helps users answer questions about legal documents and policies.\n",
        "\n",
        "Please follow these steps:\n",
        "1. Using user's query, use `retrieve_documents` tool to retrieve the most relevant document from the database.\n",
        "2. If you see `other_references_to_query` in the tool result, search the mentioned referenced using `retrieve_documents(<other reference=\"\">)` tool to retrieve more documents.\n",
        "3. Keep trying until you find the answer.\n",
        "4. Answer with yes or no as much as you can to answer the question directly.\n",
        "\"\"\"\n",
        "\n",
        "output1 = cohere_agent(question2, preamble2, tools, verbose=True)\n"
      ]
    },
    {
      "cell_type": "code",
      "execution_count": 22,
      "metadata": {
        "id": "4rwLwsUrH7B3"
      },
      "outputs": [],
      "source": [
        "def legal_advisor(query: str, documents: list[str]) -> str:\n",
        "    \"\"\"\n",
        "    Provides legal advice based on the query and relevant documents.\n",
        "    It formulates a response considering legal constraints and guidelines.\n",
        "\n",
        "    Args:\n",
        "    - query: User's legal-related question.\n",
        "    - documents: List of relevant documents retrieved.\n",
        "\n",
        "    Returns:\n",
        "    - Legal advice based on the provided documents.\n",
        "    \"\"\"\n",
        "    prompt = f\"\"\"\n",
        "    # Instruction:\n",
        "    Provide legal advice based on the user's question. Only use information from the provided documents and reference applicable laws.\n",
        "\n",
        "    # User Query:\n",
        "    {query}\n",
        "\n",
        "    # Relevant Documents:\n",
        "    {documents}\n",
        "\n",
        "    # Output:\n",
        "    Give clear legal advice that directly addresses the user's query.\n",
        "    \"\"\"\n",
        "    return co.chat(message=prompt, model=COHERE_MODEL, preamble=None).text\n",
        "\n",
        "def regulations(query: str, documents: list[str]) -> str:\n",
        "    \"\"\"\n",
        "    Provides information on regulations based on the query and relevant documents.\n",
        "    It extracts specific sections and compliance requirements.\n",
        "\n",
        "    Args:\n",
        "    - query: User's question related to regulations.\n",
        "    - documents: List of relevant documents retrieved.\n",
        "\n",
        "    Returns:\n",
        "    - A response focusing on regulatory compliance, highlighting relevant sections and requirements.\n",
        "    \"\"\"\n",
        "    prompt = f\"\"\"\n",
        "    # Instruction:\n",
        "    Provide detailed information on the regulations relevant to the user's query. Use only the provided documents and reference applicable sections.\n",
        "\n",
        "    # User Query:\n",
        "    {query}\n",
        "\n",
        "    # Relevant Documents:\n",
        "    {documents}\n",
        "\n",
        "    # Output:\n",
        "    Focus on regulatory compliance, highlighting the sections or guidelines that are most relevant to the query.\n",
        "    \"\"\"\n",
        "    return co.chat(message=prompt, model=COHERE_MODEL, preamble=None).text\n",
        "\n",
        "\n",
        "\n",
        "def hallucination_detector(query: str, response: str, documents: list[str]) -> str:\n",
        "    \"\"\"\n",
        "    Detects hallucinations by checking if the generated response contains information not supported by the provided documents.\n",
        "\n",
        "    Args:\n",
        "    - query: The original user query.\n",
        "    - response: The generated response based on the query.\n",
        "    - documents: The list of retrieved documents.\n",
        "\n",
        "    Returns:\n",
        "    - A message indicating whether hallucinations were detected, and if so, highlights unsupported content.\n",
        "    \"\"\"\n",
        "    prompt = f\"\"\"\n",
        "    # Instruction:\n",
        "    Check the provided response to see if it contains information that is not supported or referenced in the documents.\n",
        "\n",
        "    # Query:\n",
        "    {query}\n",
        "\n",
        "    # Retrieved Documents:\n",
        "    {documents}\n",
        "\n",
        "    # Generated Response:\n",
        "    {response}\n",
        "\n",
        "    # Output format:\n",
        "    If the response contains hallucinations, list the hallucinated parts and explain why they are unsupported. If everything is accurate, return \"No hallucinations detected.\"\n",
        "    \"\"\"\n",
        "    return co.chat(message=prompt, model=COHERE_MODEL, preamble=None).text\n",
        "\n",
        "\n",
        "def reference_extractor(query: str, documents: list[str]) -> str:\n",
        "    \"\"\"\n",
        "    Given a query and documents, find references to other documents.\n",
        "    \"\"\"\n",
        "    prompt = f\"\"\"\n",
        "    # Instruction:\n",
        "    Does the reference document mention any other documents? If so, list them. If not, return an empty string.\n",
        "\n",
        "    # User Query:\n",
        "    {query}\n",
        "\n",
        "    # Retrieved Documents:\n",
        "    {documents}\n",
        "    \"\"\"\n",
        "    return co.chat(message=prompt, model=COHERE_MODEL, preamble=None).text\n",
        "\n",
        "\n",
        "def retrieve_documents(query: str, n=1) -> dict:\n",
        "    \"\"\"\n",
        "    Function to retrieve the most relevant documents for a given query.\n",
        "    It also returns other references mentioned in the top-matched documents.\n",
        "    \"\"\"\n",
        "    query_input = question_tokenizer(query, return_tensors=\"pt\")\n",
        "    query_emb = question_encoder(**query_input).pooler_output\n",
        "\n",
        "    doc_texts = db['combined'].tolist()\n",
        "    doc_inputs = context_tokenizer(doc_texts, return_tensors=\"pt\", padding=True, truncation=True)\n",
        "    doc_embeddings = context_encoder(**doc_inputs).pooler_output\n",
        "\n",
        "    similarity_scores = torch.matmul(query_emb, doc_embeddings.T).squeeze(0).cpu().detach().numpy()\n",
        "\n",
        "    top_indices = similarity_scores.argsort()[::-1][:n]\n",
        "    top_matches = db.iloc[top_indices]\n",
        "\n",
        "    # Extract references from the top-matched documents\n",
        "    other_references = reference_extractor(query, top_matches.combined.tolist())\n",
        "\n",
        "    return {\n",
        "        \"top_matched_document\": top_matches.combined,\n",
        "        \"other_references_to_query\": other_references,\n",
        "    }\n",
        "\n",
        "\n",
        "def generate_response_with_hallucination_check(query: str, documents: list[str]) -> dict:\n",
        "    \"\"\"\n",
        "    Generates a response for the given query based on the provided documents and checks for hallucinations in the response.\n",
        "    \"\"\"\n",
        "    prompt = f\"\"\"\n",
        "    # Instruction:\n",
        "    Generate an informative and accurate response to the user's query using only the information available in the retrieved documents.\n",
        "\n",
        "    # User Query:\n",
        "    {query}\n",
        "\n",
        "    # Retrieved Documents:\n",
        "    {documents}\n",
        "    \"\"\"\n",
        "    response = co.chat(message=prompt, model=COHERE_MODEL, preamble=None).text\n",
        "\n",
        "    hallucination_check = hallucination_detector(query, response, documents)\n",
        "\n",
        "    return {\n",
        "        \"generated_response\": response,\n",
        "        \"hallucination_check\": hallucination_check,\n",
        "    }\n",
        "\n",
        "\n",
        "functions_map = {\n",
        "    \"retrieve_documents\": retrieve_documents,\n",
        "    \"generate_response_with_hallucination_check\": generate_response_with_hallucination_check,\n",
        "    \"legal_advisor\": legal_advisor,\n",
        "    \"regulations\": regulations,\n",
        "}\n",
        "\n",
        "\n",
        "tools = [\n",
        "    {\n",
        "        \"name\": \"retrieve_documents\",\n",
        "        \"description\": \"Retrieve documents relevant to a user's question.\",\n",
        "        \"parameter_definitions\": {\n",
        "            \"query\": {\n",
        "                \"description\": \"The user's question or request for documents.\",\n",
        "                \"type\": \"str\",\n",
        "                \"required\": True,\n",
        "            }\n",
        "        },\n",
        "    },\n",
        "    {\n",
        "        \"name\": \"generate_response_with_hallucination_check\",\n",
        "        \"description\": \"Generates a response based on retrieved documents and checks for hallucinations.\",\n",
        "        \"parameter_definitions\": {\n",
        "            \"query\": {\n",
        "                \"description\": \"User's query or input question.\",\n",
        "                \"type\": \"str\",\n",
        "                \"required\": True,\n",
        "            },\n",
        "            \"documents\": {\n",
        "                \"description\": \"The list of retrieved documents relevant to the user's query.\",\n",
        "                \"type\": \"list[str]\",\n",
        "                \"required\": True,\n",
        "            }\n",
        "        },\n",
        "    },\n",
        "    {\n",
        "        \"name\": \"legal_advisor\",\n",
        "        \"description\": \"Provides legal advice based on relevant documents.\",\n",
        "        \"parameter_definitions\": {\n",
        "            \"query\": {\n",
        "                \"description\": \"The user's legal question.\",\n",
        "                \"type\": \"str\",\n",
        "                \"required\": True,\n",
        "            },\n",
        "            \"documents\": {\n",
        "                \"description\": \"The list of retrieved documents that contain relevant legal information.\",\n",
        "                \"type\": \"list[str]\",\n",
        "                \"required\": True,\n",
        "            }\n",
        "        },\n",
        "    },\n",
        "    {\n",
        "        \"name\": \"regulations\",\n",
        "        \"description\": \"Provides detailed information on regulations relevant to the user's query.\",\n",
        "        \"parameter_definitions\": {\n",
        "            \"query\": {\n",
        "                \"description\": \"User's question related to regulations or compliance.\",\n",
        "                \"type\": \"str\",\n",
        "                \"required\": True,\n",
        "            },\n",
        "            \"documents\": {\n",
        "                \"description\": \"The list of retrieved documents relevant to regulations and compliance.\",\n",
        "                \"type\": \"list[str]\",\n",
        "                \"required\": True,\n",
        "            }\n",
        "        },\n",
        "    }\n",
        "]\n",
        "\n"
      ]
    },
    {
      "cell_type": "code",
      "execution_count": 23,
      "metadata": {
        "id": "EW4BNMeSaMnv"
      },
      "outputs": [],
      "source": [
        "def cohere_agent1(\n",
        "    message: str,\n",
        "    preamble: str,\n",
        "    tools: list[dict],\n",
        "    force_single_step=False,\n",
        "    verbose: bool = False,\n",
        "    temperature: float = 0.3,\n",
        ") -> str:\n",
        "    \"\"\"\n",
        "    Handles multi-step tool usage and integrates legal and regulation agents.\n",
        "\n",
        "    Args:\n",
        "        message (str): The message or query to process.\n",
        "        preamble (str): The preamble or context for the conversation.\n",
        "        tools (list[dict]): The tools available for use in the agent.\n",
        "        verbose (bool, optional): Whether to print verbose output. Defaults to False.\n",
        "        temperature (float, optional): Controls the creativity of the responses.\n",
        "\n",
        "    Returns:\n",
        "        str: Final response from the agent.\n",
        "    \"\"\"\n",
        "\n",
        "    counter = 1\n",
        "    chat_history = []  \n",
        "    response = co.chat(\n",
        "        model=COHERE_MODEL,\n",
        "        message=message,\n",
        "        preamble=preamble,\n",
        "        tools=tools,\n",
        "        force_single_step=force_single_step,\n",
        "        temperature=temperature,\n",
        "    )\n",
        "\n",
        "    chat_history.append({\"message\": message, \"response\": response.text})  \n",
        "\n",
        "    if verbose:\n",
        "        print(f\"\\nrunning 0th step.\")\n",
        "        print(response.text)\n",
        "\n",
        "    retrieved_documents = pd.Series(dtype='object')  # Initialize an empty Series to hold documents\n",
        "\n",
        "    while response.tool_calls:\n",
        "        tool_results = []\n",
        "\n",
        "        if verbose:\n",
        "            print(f\"\\nrunning {counter}th step.\")\n",
        "\n",
        "        for tool_call in response.tool_calls:\n",
        "            if tool_call.name == \"retrieve_documents\":\n",
        "                output = functions_map[tool_call.name](**tool_call.parameters)\n",
        "                top_matched_document = output[\"top_matched_document\"]\n",
        "                other_references = output[\"other_references_to_query\"]\n",
        "\n",
        "                retrieved_documents = pd.concat([retrieved_documents, top_matched_document])\n",
        "                tool_results.append({\"call\": tool_call, \"outputs\": [output]})\n",
        "\n",
        "                if verbose:\n",
        "                    print(f\"= running tool {tool_call.name}, with parameters: \\n{tool_call.parameters}\")\n",
        "                    pprint(output)\n",
        "\n",
        "                if other_references:\n",
        "                    for reference in other_references.split(\",\"):\n",
        "                        reference_output = functions_map[tool_call.name](query=reference)\n",
        "                        reference_document = reference_output[\"top_matched_document\"]\n",
        "                        retrieved_documents = pd.concat([retrieved_documents, reference_document])\n",
        "\n",
        "            elif tool_call.name in [\"legal_advisor\", \"regulations\"]:\n",
        "                output = functions_map[tool_call.name](**tool_call.parameters)\n",
        "                tool_results.append({\"call\": tool_call, \"outputs\": [output]})\n",
        "                response = output\n",
        "\n",
        "                chat_history.append({\"message\": message, \"response\": response})\n",
        "\n",
        "                if verbose:\n",
        "                    print(f\"== {tool_call.name} response:\")\n",
        "                    pprint(output)\n",
        "\n",
        "            elif tool_call.name == \"generate_response_with_hallucination_check\":\n",
        "                output = functions_map[tool_call.name](**tool_call.parameters)\n",
        "                hallucination_check = output[\"hallucination_check\"]\n",
        "                tool_results.append({\"call\": tool_call, \"outputs\": [output]})\n",
        "\n",
        "                if \"No hallucinations detected\" not in hallucination_check:\n",
        "                    return hallucination_check\n",
        "\n",
        "        if not retrieved_documents.empty:\n",
        "            response_with_check = functions_map[\"generate_response_with_hallucination_check\"](\n",
        "                query=message, documents=retrieved_documents.tolist()\n",
        "            )\n",
        "            response = response_with_check[\"generated_response\"]\n",
        "            hallucination_check = response_with_check[\"hallucination_check\"]\n",
        "\n",
        "            chat_history.append({\"message\": message, \"response\": response})\n",
        "\n",
        "            if \"No hallucinations detected\" in hallucination_check:\n",
        "                return response\n",
        "            else:\n",
        "                return hallucination_check\n",
        "\n",
        "        response = co.chat(\n",
        "            model=COHERE_MODEL,\n",
        "            message=\"\",\n",
        "            chat_history=chat_history,\n",
        "            preamble=preamble,\n",
        "            tools=tools,\n",
        "            force_single_step=force_single_step,\n",
        "            tool_results=tool_results,\n",
        "            temperature=temperature,\n",
        "        )\n",
        "\n",
        "        chat_history.append({\"message\": \"\", \"response\": response.text})\n",
        "\n",
        "        if verbose:\n",
        "            print(response.text)\n",
        "            counter += 1\n",
        "\n",
        "    return response.text\n"
      ]
    },
    {
      "cell_type": "code",
      "execution_count": 24,
      "metadata": {
        "colab": {
          "base_uri": "https://localhost:8080/"
        },
        "id": "5ZzNJ-iJC-CF",
        "outputId": "28596726-77bb-41bf-9029-7b774e36456a"
      },
      "outputs": [
        {
          "name": "stdout",
          "output_type": "stream",
          "text": [
            "\n",
            "running 0th step.\n",
            "I will search for 'international supply chain business compliance' and 'penalties for child labour law violations' to answer the user's query.\n",
            "\n",
            "running 1th step.\n",
            "= running tool retrieve_documents, with parameters: \n",
            "{'query': 'international supply chain business compliance'}\n",
            "{'other_references_to_query': '- Section 5b\\n'\n",
            "                              '- SCC 12.34.567\\n'\n",
            "                              '- Section 7c\\n'\n",
            "                              '- Section 4a (SCC 12.34.578)\\n'\n",
            "                              '- SCC 12.34.890\\n'\n",
            "                              '- SCC 12.34.999\\n'\n",
            "                              \"- Section 9b (Environmental Protection Agency's \"\n",
            "                              'guidelines)\\n'\n",
            "                              '- Section 6b',\n",
            " 'top_matched_document': 0    Title: Supply Chain Regulations\\nBody: \\n     ...\n",
            "Name: combined, dtype: object}\n",
            "= running tool retrieve_documents, with parameters: \n",
            "{'query': 'penalties for child labour law violations'}\n",
            "{'other_references_to_query': '- Section 4a',\n",
            " 'top_matched_document': 1    Title: Child Labor Laws\\nBody: Suppliers are p...\n",
            "Name: combined, dtype: object}\n"
          ]
        }
      ],
      "source": [
        "preamble2 = \"\"\"# Instruction\n",
        "You are an expert assistant that helps users answer questions about legal documents and policies.\n",
        "\n",
        "Please follow these steps:\n",
        "1. Using user's query, use `retrieve_documents` tool to retrieve the most relevant document from the database.\n",
        "2. If you see `other_references_to_query` in the tool result, search the mentioned referenced using `retrieve_documents(<other reference=\"\">)` tool to retrieve more documents.\n",
        "3. Keep trying until you find the answer.\n",
        "4. Answer with yes or no as much as you can to answer the question directly.\n",
        "\"\"\"\n",
        "\n",
        "output2 = cohere_agent1(question2, preamble2, tools, verbose=True)"
      ]
    },
    {
      "cell_type": "code",
      "execution_count": 25,
      "metadata": {
        "colab": {
          "base_uri": "https://localhost:8080/"
        },
        "id": "MzmeijDwdHK_",
        "outputId": "7b288a03-b7f6-4e6e-8f90-f913f49bbcc7"
      },
      "outputs": [
        {
          "name": "stdout",
          "output_type": "stream",
          "text": [
            "I operate a supply chain business in DuPont, and I’m sourcing materials from multiple international locations.\n",
            "              Do I need to comply with both local and international labor and environmental laws,\n",
            "              and what are the penalties if a supplier in a foreign country is found violating child labor laws?\n",
            "              \n"
          ]
        }
      ],
      "source": [
        "print(question2)"
      ]
    },
    {
      "cell_type": "markdown",
      "metadata": {
        "id": "KnYPB13lc_KV"
      },
      "source": [
        "Output After using 2 Agents."
      ]
    },
    {
      "cell_type": "code",
      "execution_count": 26,
      "metadata": {
        "colab": {
          "base_uri": "https://localhost:8080/"
        },
        "id": "htbq_NQ9dKhb",
        "outputId": "16c26dd1-a32f-4e8b-bf99-dc7c4b40ab0b"
      },
      "outputs": [
        {
          "name": "stdout",
          "output_type": "stream",
          "text": [
            "Yes, you need to comply with both local and international labour and environmental laws. If a supplier in a foreign country is found violating child labour laws, the penalties are as follows:\n",
            "1. First offence: $5,000 fine and immediate suspension of contract.\n",
            "2. Second offence: $10,000 fine and permanent ban from future contracts.\n",
            "3. Suppliers found to be engaging in child labour practices in foreign countries will be subject to penalties under the international labour laws section (IL 12.34.678).\n"
          ]
        }
      ],
      "source": [
        "print(output1)"
      ]
    },
    {
      "cell_type": "markdown",
      "metadata": {
        "id": "XP0sCBVFc7Hy"
      },
      "source": [
        "Output after using 5 Agents"
      ]
    },
    {
      "cell_type": "code",
      "execution_count": 27,
      "metadata": {
        "colab": {
          "base_uri": "https://localhost:8080/"
        },
        "id": "VVbr28ElKbHh",
        "outputId": "a0059460-3674-4130-d209-52df5dccd124"
      },
      "outputs": [
        {
          "name": "stdout",
          "output_type": "stream",
          "text": [
            "## Compliance with Laws\n",
            "\n",
            "As a supply chain business in DuPont, you must ensure compliance with local, state, and federal laws, including labor laws, environmental regulations, and product safety standards. This applies not only to your operations in DuPont but also to your sourcing of materials from international locations. \n",
            "\n",
            "## Supplier Responsibility\n",
            "\n",
            "Your suppliers are responsible for ensuring that the goods and materials they provide comply with the applicable laws and meet the quality standards set by your company. This includes compliance with local labor laws regarding wages, working hours, and working conditions in the countries from which you are sourcing materials. \n",
            "\n",
            "## Child Labor Laws\n",
            "\n",
            "It is illegal for any supplier in your supply chain to employ workers under the age of 14. Violations of child labor laws will result in penalties, and the specific consequences are outlined in Section 4a:\n",
            "\n",
            "1. First Offense: A fine of $5,000 is imposed, and the contract with the violating supplier is immediately suspended. \n",
            "\n",
            "2. Second Offense: The fine increases to $10,000, and the supplier is permanently banned from future contracts. \n",
            "\n",
            "3. Foreign Country Violations: If a supplier is found engaging in child labor practices in a foreign country, they will be subject to additional penalties under the international labor laws section (IL 12.34.678). These penalties may vary depending on the specific jurisdiction and the severity of the violation. \n",
            "\n",
            "## Additional Considerations\n",
            "\n",
            "It is important to refer to the specific sections mentioned in the documents (e.g., SCC 12.34.567, Section 7c, Section 9b) for detailed information on each topic. These sections will provide you with the precise clauses and guidelines to ensure full compliance with the relevant laws and regulations. \n",
            "\n",
            "Furthermore, remember that some goods, particularly hazardous materials, may be subject to import/export restrictions. Always review the restricted goods guidelines to ensure your business complies with international trade regulations.\n"
          ]
        }
      ],
      "source": [
        "print(output2)"
      ]
    },
    {
      "cell_type": "code",
      "execution_count": null,
      "metadata": {
        "id": "l-3pNUsmdVp0"
      },
      "outputs": [],
      "source": []
    }
  ],
  "metadata": {
    "accelerator": "GPU",
    "colab": {
      "gpuType": "T4",
      "provenance": []
    },
    "kernelspec": {
      "display_name": "Python 3",
      "name": "python3"
    },
    "language_info": {
      "codemirror_mode": {
        "name": "ipython",
        "version": 3
      },
      "file_extension": ".py",
      "mimetype": "text/x-python",
      "name": "python",
      "nbconvert_exporter": "python",
      "pygments_lexer": "ipython3",
      "version": "3.11.4"
    }
  },
  "nbformat": 4,
  "nbformat_minor": 0
}
